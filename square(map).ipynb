{
 "cells": [
  {
   "cell_type": "code",
   "execution_count": 2,
   "id": "d8652792",
   "metadata": {},
   "outputs": [
    {
     "name": "stdout",
     "output_type": "stream",
     "text": [
      "initial list:  [4, 5, 2, 9]\n",
      "Square of the list :\n",
      "[16, 25, 4, 81]\n"
     ]
    }
   ],
   "source": [
    "def square(n):\n",
    "  return n * n\n",
    "numbers = [4, 5, 2, 9]       # numbers to be squared \n",
    "print(\"initial list: \",numbers)\n",
    "result = map(square, numbers)   # map function defined \n",
    "print(\"Square of the list :\")\n",
    "print(list(result))"
   ]
  },
  {
   "cell_type": "code",
   "execution_count": null,
   "id": "5c74c74f",
   "metadata": {},
   "outputs": [],
   "source": []
  }
 ],
 "metadata": {
  "kernelspec": {
   "display_name": "Python 3 (ipykernel)",
   "language": "python",
   "name": "python3"
  },
  "language_info": {
   "codemirror_mode": {
    "name": "ipython",
    "version": 3
   },
   "file_extension": ".py",
   "mimetype": "text/x-python",
   "name": "python",
   "nbconvert_exporter": "python",
   "pygments_lexer": "ipython3",
   "version": "3.10.0"
  }
 },
 "nbformat": 4,
 "nbformat_minor": 5
}
